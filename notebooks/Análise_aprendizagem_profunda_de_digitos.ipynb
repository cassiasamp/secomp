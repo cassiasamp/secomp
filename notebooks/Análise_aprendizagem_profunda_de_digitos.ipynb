{
  "nbformat": 4,
  "nbformat_minor": 0,
  "metadata": {
    "colab": {
      "name": "Análise aprendizagem profunda de digitos.ipynb",
      "version": "0.3.2",
      "provenance": [],
      "collapsed_sections": [],
      "toc_visible": true
    },
    "kernelspec": {
      "name": "python3",
      "display_name": "Python 3"
    }
  },
  "cells": [
    {
      "cell_type": "code",
      "metadata": {
        "id": "pFXqrdoZDYGY",
        "colab_type": "code",
        "colab": {}
      },
      "source": [
        "import tensorflow\n",
        "from tensorflow import keras"
      ],
      "execution_count": 0,
      "outputs": []
    },
    {
      "cell_type": "markdown",
      "metadata": {
        "id": "UyFx-fR0KpoB",
        "colab_type": "text"
      },
      "source": [
        "## Carregamento dos dados"
      ]
    },
    {
      "cell_type": "code",
      "metadata": {
        "id": "nrGjB3hCDo1B",
        "colab_type": "code",
        "colab": {}
      },
      "source": [
        "mnist = keras.datasets.mnist"
      ],
      "execution_count": 0,
      "outputs": []
    },
    {
      "cell_type": "code",
      "metadata": {
        "id": "iUqr5tAoDxNH",
        "colab_type": "code",
        "outputId": "95053e83-32b2-4826-da41-49f8f2fbcab4",
        "colab": {
          "base_uri": "https://localhost:8080/",
          "height": 54
        }
      },
      "source": [
        "mnist"
      ],
      "execution_count": 40,
      "outputs": [
        {
          "output_type": "execute_result",
          "data": {
            "text/plain": [
              "<module 'tensorflow.python.keras.api._v1.keras.datasets.mnist' from '/usr/local/lib/python3.6/dist-packages/tensorflow/python/keras/api/_v1/keras/datasets/mnist/__init__.py'>"
            ]
          },
          "metadata": {
            "tags": []
          },
          "execution_count": 40
        }
      ]
    },
    {
      "cell_type": "code",
      "metadata": {
        "id": "Zc2Aad69DzXy",
        "colab_type": "code",
        "colab": {}
      },
      "source": [
        "(imagens_treino, identificacoes_treino), (imagens_teste, identificacoes_teste) = mnist.load_data()"
      ],
      "execution_count": 0,
      "outputs": []
    },
    {
      "cell_type": "markdown",
      "metadata": {
        "id": "KMn7TASnKvRL",
        "colab_type": "text"
      },
      "source": [
        "## Entendendo os dados"
      ]
    },
    {
      "cell_type": "code",
      "metadata": {
        "id": "orO3TzlrLZu5",
        "colab_type": "code",
        "outputId": "c48bc0e9-07f0-41eb-a1c2-a9b0a01761c5",
        "colab": {
          "base_uri": "https://localhost:8080/",
          "height": 1000
        }
      },
      "source": [
        "imagens_treino[0]"
      ],
      "execution_count": 42,
      "outputs": [
        {
          "output_type": "execute_result",
          "data": {
            "text/plain": [
              "array([[  0,   0,   0,   0,   0,   0,   0,   0,   0,   0,   0,   0,   0,\n",
              "          0,   0,   0,   0,   0,   0,   0,   0,   0,   0,   0,   0,   0,\n",
              "          0,   0],\n",
              "       [  0,   0,   0,   0,   0,   0,   0,   0,   0,   0,   0,   0,   0,\n",
              "          0,   0,   0,   0,   0,   0,   0,   0,   0,   0,   0,   0,   0,\n",
              "          0,   0],\n",
              "       [  0,   0,   0,   0,   0,   0,   0,   0,   0,   0,   0,   0,   0,\n",
              "          0,   0,   0,   0,   0,   0,   0,   0,   0,   0,   0,   0,   0,\n",
              "          0,   0],\n",
              "       [  0,   0,   0,   0,   0,   0,   0,   0,   0,   0,   0,   0,   0,\n",
              "          0,   0,   0,   0,   0,   0,   0,   0,   0,   0,   0,   0,   0,\n",
              "          0,   0],\n",
              "       [  0,   0,   0,   0,   0,   0,   0,   0,   0,   0,   0,   0,   0,\n",
              "          0,   0,   0,   0,   0,   0,   0,   0,   0,   0,   0,   0,   0,\n",
              "          0,   0],\n",
              "       [  0,   0,   0,   0,   0,   0,   0,   0,   0,   0,   0,   0,   3,\n",
              "         18,  18,  18, 126, 136, 175,  26, 166, 255, 247, 127,   0,   0,\n",
              "          0,   0],\n",
              "       [  0,   0,   0,   0,   0,   0,   0,   0,  30,  36,  94, 154, 170,\n",
              "        253, 253, 253, 253, 253, 225, 172, 253, 242, 195,  64,   0,   0,\n",
              "          0,   0],\n",
              "       [  0,   0,   0,   0,   0,   0,   0,  49, 238, 253, 253, 253, 253,\n",
              "        253, 253, 253, 253, 251,  93,  82,  82,  56,  39,   0,   0,   0,\n",
              "          0,   0],\n",
              "       [  0,   0,   0,   0,   0,   0,   0,  18, 219, 253, 253, 253, 253,\n",
              "        253, 198, 182, 247, 241,   0,   0,   0,   0,   0,   0,   0,   0,\n",
              "          0,   0],\n",
              "       [  0,   0,   0,   0,   0,   0,   0,   0,  80, 156, 107, 253, 253,\n",
              "        205,  11,   0,  43, 154,   0,   0,   0,   0,   0,   0,   0,   0,\n",
              "          0,   0],\n",
              "       [  0,   0,   0,   0,   0,   0,   0,   0,   0,  14,   1, 154, 253,\n",
              "         90,   0,   0,   0,   0,   0,   0,   0,   0,   0,   0,   0,   0,\n",
              "          0,   0],\n",
              "       [  0,   0,   0,   0,   0,   0,   0,   0,   0,   0,   0, 139, 253,\n",
              "        190,   2,   0,   0,   0,   0,   0,   0,   0,   0,   0,   0,   0,\n",
              "          0,   0],\n",
              "       [  0,   0,   0,   0,   0,   0,   0,   0,   0,   0,   0,  11, 190,\n",
              "        253,  70,   0,   0,   0,   0,   0,   0,   0,   0,   0,   0,   0,\n",
              "          0,   0],\n",
              "       [  0,   0,   0,   0,   0,   0,   0,   0,   0,   0,   0,   0,  35,\n",
              "        241, 225, 160, 108,   1,   0,   0,   0,   0,   0,   0,   0,   0,\n",
              "          0,   0],\n",
              "       [  0,   0,   0,   0,   0,   0,   0,   0,   0,   0,   0,   0,   0,\n",
              "         81, 240, 253, 253, 119,  25,   0,   0,   0,   0,   0,   0,   0,\n",
              "          0,   0],\n",
              "       [  0,   0,   0,   0,   0,   0,   0,   0,   0,   0,   0,   0,   0,\n",
              "          0,  45, 186, 253, 253, 150,  27,   0,   0,   0,   0,   0,   0,\n",
              "          0,   0],\n",
              "       [  0,   0,   0,   0,   0,   0,   0,   0,   0,   0,   0,   0,   0,\n",
              "          0,   0,  16,  93, 252, 253, 187,   0,   0,   0,   0,   0,   0,\n",
              "          0,   0],\n",
              "       [  0,   0,   0,   0,   0,   0,   0,   0,   0,   0,   0,   0,   0,\n",
              "          0,   0,   0,   0, 249, 253, 249,  64,   0,   0,   0,   0,   0,\n",
              "          0,   0],\n",
              "       [  0,   0,   0,   0,   0,   0,   0,   0,   0,   0,   0,   0,   0,\n",
              "          0,  46, 130, 183, 253, 253, 207,   2,   0,   0,   0,   0,   0,\n",
              "          0,   0],\n",
              "       [  0,   0,   0,   0,   0,   0,   0,   0,   0,   0,   0,   0,  39,\n",
              "        148, 229, 253, 253, 253, 250, 182,   0,   0,   0,   0,   0,   0,\n",
              "          0,   0],\n",
              "       [  0,   0,   0,   0,   0,   0,   0,   0,   0,   0,  24, 114, 221,\n",
              "        253, 253, 253, 253, 201,  78,   0,   0,   0,   0,   0,   0,   0,\n",
              "          0,   0],\n",
              "       [  0,   0,   0,   0,   0,   0,   0,   0,  23,  66, 213, 253, 253,\n",
              "        253, 253, 198,  81,   2,   0,   0,   0,   0,   0,   0,   0,   0,\n",
              "          0,   0],\n",
              "       [  0,   0,   0,   0,   0,   0,  18, 171, 219, 253, 253, 253, 253,\n",
              "        195,  80,   9,   0,   0,   0,   0,   0,   0,   0,   0,   0,   0,\n",
              "          0,   0],\n",
              "       [  0,   0,   0,   0,  55, 172, 226, 253, 253, 253, 253, 244, 133,\n",
              "         11,   0,   0,   0,   0,   0,   0,   0,   0,   0,   0,   0,   0,\n",
              "          0,   0],\n",
              "       [  0,   0,   0,   0, 136, 253, 253, 253, 212, 135, 132,  16,   0,\n",
              "          0,   0,   0,   0,   0,   0,   0,   0,   0,   0,   0,   0,   0,\n",
              "          0,   0],\n",
              "       [  0,   0,   0,   0,   0,   0,   0,   0,   0,   0,   0,   0,   0,\n",
              "          0,   0,   0,   0,   0,   0,   0,   0,   0,   0,   0,   0,   0,\n",
              "          0,   0],\n",
              "       [  0,   0,   0,   0,   0,   0,   0,   0,   0,   0,   0,   0,   0,\n",
              "          0,   0,   0,   0,   0,   0,   0,   0,   0,   0,   0,   0,   0,\n",
              "          0,   0],\n",
              "       [  0,   0,   0,   0,   0,   0,   0,   0,   0,   0,   0,   0,   0,\n",
              "          0,   0,   0,   0,   0,   0,   0,   0,   0,   0,   0,   0,   0,\n",
              "          0,   0]], dtype=uint8)"
            ]
          },
          "metadata": {
            "tags": []
          },
          "execution_count": 42
        }
      ]
    },
    {
      "cell_type": "code",
      "metadata": {
        "id": "97ebgj6MLdry",
        "colab_type": "code",
        "outputId": "fd2c7f20-d92e-4218-ee4e-43757607df7b",
        "colab": {
          "base_uri": "https://localhost:8080/",
          "height": 292
        }
      },
      "source": [
        "import matplotlib.pyplot as plt \n",
        "\n",
        "plt.gray() \n",
        "plt.matshow(imagens_treino[0]) \n",
        "plt.show() "
      ],
      "execution_count": 43,
      "outputs": [
        {
          "output_type": "display_data",
          "data": {
            "text/plain": [
              "<Figure size 432x288 with 0 Axes>"
            ]
          },
          "metadata": {
            "tags": []
          }
        },
        {
          "output_type": "display_data",
          "data": {
            "image/png": "[encoded data removed]",
            "text/plain": [
              "<Figure size 288x288 with 1 Axes>"
            ]
          },
          "metadata": {
            "tags": []
          }
        }
      ]
    },
    {
      "cell_type": "code",
      "metadata": {
        "id": "5hHHm0zEEAZh",
        "colab_type": "code",
        "outputId": "d3986d79-802c-421e-a32c-18cd61f55d21",
        "colab": {
          "base_uri": "https://localhost:8080/",
          "height": 34
        }
      },
      "source": [
        "imagens_treino.shape"
      ],
      "execution_count": 8,
      "outputs": [
        {
          "output_type": "execute_result",
          "data": {
            "text/plain": [
              "(60000, 28, 28)"
            ]
          },
          "metadata": {
            "tags": []
          },
          "execution_count": 8
        }
      ]
    },
    {
      "cell_type": "code",
      "metadata": {
        "id": "_qCqIxfgEGOk",
        "colab_type": "code",
        "outputId": "1c9ccf2a-6293-4516-f244-4810c0597396",
        "colab": {
          "base_uri": "https://localhost:8080/",
          "height": 34
        }
      },
      "source": [
        "len(identificacoes_treino)"
      ],
      "execution_count": 44,
      "outputs": [
        {
          "output_type": "execute_result",
          "data": {
            "text/plain": [
              "60000"
            ]
          },
          "metadata": {
            "tags": []
          },
          "execution_count": 44
        }
      ]
    },
    {
      "cell_type": "code",
      "metadata": {
        "id": "qowhri1PEJeM",
        "colab_type": "code",
        "outputId": "03511e03-3230-4f9d-d0c9-0e5159118ae1",
        "colab": {
          "base_uri": "https://localhost:8080/",
          "height": 34
        }
      },
      "source": [
        "identificacoes_treino"
      ],
      "execution_count": 10,
      "outputs": [
        {
          "output_type": "execute_result",
          "data": {
            "text/plain": [
              "array([5, 0, 4, ..., 5, 6, 8], dtype=uint8)"
            ]
          },
          "metadata": {
            "tags": []
          },
          "execution_count": 10
        }
      ]
    },
    {
      "cell_type": "code",
      "metadata": {
        "id": "5JJx68ssLvP3",
        "colab_type": "code",
        "outputId": "53541dc6-6b85-408e-e7b9-7aaea9ef969f",
        "colab": {
          "base_uri": "https://localhost:8080/",
          "height": 34
        }
      },
      "source": [
        "identificacoes_treino[0]"
      ],
      "execution_count": 11,
      "outputs": [
        {
          "output_type": "execute_result",
          "data": {
            "text/plain": [
              "5"
            ]
          },
          "metadata": {
            "tags": []
          },
          "execution_count": 11
        }
      ]
    },
    {
      "cell_type": "markdown",
      "metadata": {
        "id": "-6pz2qO_K0pA",
        "colab_type": "text"
      },
      "source": [
        "## Fazendo a rede"
      ]
    },
    {
      "cell_type": "code",
      "metadata": {
        "id": "RW58LS4vJ3Tn",
        "colab_type": "code",
        "colab": {}
      },
      "source": [
        "modelo_inicial = keras.models.Sequential([\n",
        "  keras.layers.Flatten(input_shape=(28, 28)),\n",
        "  keras.layers.Dense(512, activation=tf.nn.relu),\n",
        "  keras.layers.Dense(10, activation=tf.nn.softmax)\n",
        "])"
      ],
      "execution_count": 0,
      "outputs": []
    },
    {
      "cell_type": "code",
      "metadata": {
        "id": "jWjhZ3wmEXKA",
        "colab_type": "code",
        "colab": {}
      },
      "source": [
        "modelo_inicial.compile(optimizer='adam',\n",
        "              loss='sparse_categorical_crossentropy',\n",
        "              metrics=['accuracy'])"
      ],
      "execution_count": 0,
      "outputs": []
    },
    {
      "cell_type": "code",
      "metadata": {
        "id": "n-l1srdHH3Tk",
        "colab_type": "code",
        "outputId": "e2befa1b-bc8c-46ea-8bef-616e5d573e60",
        "colab": {
          "base_uri": "https://localhost:8080/",
          "height": 204
        }
      },
      "source": [
        "modelo_inicial.fit(imagens_treino, identificacoes_treino, epochs=5)"
      ],
      "execution_count": 47,
      "outputs": [
        {
          "output_type": "stream",
          "text": [
            "Epoch 1/5\n",
            "60000/60000 [==============================] - 7s 123us/sample - loss: 2.6234 - acc: 0.9043\n",
            "Epoch 2/5\n",
            "60000/60000 [==============================] - 9s 149us/sample - loss: 0.3442 - acc: 0.9335\n",
            "Epoch 3/5\n",
            "60000/60000 [==============================] - 7s 117us/sample - loss: 0.3005 - acc: 0.9407\n",
            "Epoch 4/5\n",
            "60000/60000 [==============================] - 8s 137us/sample - loss: 0.2713 - acc: 0.9461\n",
            "Epoch 5/5\n",
            "60000/60000 [==============================] - 8s 133us/sample - loss: 0.2411 - acc: 0.9517\n"
          ],
          "name": "stdout"
        },
        {
          "output_type": "execute_result",
          "data": {
            "text/plain": [
              "<tensorflow.python.keras.callbacks.History at 0x7f2f80385828>"
            ]
          },
          "metadata": {
            "tags": []
          },
          "execution_count": 47
        }
      ]
    },
    {
      "cell_type": "code",
      "metadata": {
        "id": "Y38UwSQ3JRWJ",
        "colab_type": "code",
        "outputId": "45e3450a-b83c-4837-fef6-88796b72dbcb",
        "colab": {
          "base_uri": "https://localhost:8080/",
          "height": 68
        }
      },
      "source": [
        "print('Métrica inicial')\n",
        "modelo_inicial.evaluate(imagens_teste, identificacoes_teste)"
      ],
      "execution_count": 48,
      "outputs": [
        {
          "output_type": "stream",
          "text": [
            "Métrica inicial\n",
            "10000/10000 [==============================] - 1s 84us/sample - loss: 0.3213 - acc: 0.9470\n"
          ],
          "name": "stdout"
        },
        {
          "output_type": "execute_result",
          "data": {
            "text/plain": [
              "[0.3212545937582385, 0.947]"
            ]
          },
          "metadata": {
            "tags": []
          },
          "execution_count": 48
        }
      ]
    },
    {
      "cell_type": "markdown",
      "metadata": {
        "id": "lpE_um4gJZre",
        "colab_type": "text"
      },
      "source": [
        "## Normaliza"
      ]
    },
    {
      "cell_type": "code",
      "metadata": {
        "id": "WevPd03gHn-p",
        "colab_type": "code",
        "colab": {}
      },
      "source": [
        "# normalizacao\n",
        "imagens_treino_norm, imagens_teste_norm = imagens_treino / 255.0, imagens_teste / 255.0"
      ],
      "execution_count": 0,
      "outputs": []
    },
    {
      "cell_type": "code",
      "metadata": {
        "id": "okP3bzTWJLD-",
        "colab_type": "code",
        "colab": {}
      },
      "source": [
        "modelo_norm = keras.models.Sequential([\n",
        "  keras.layers.Flatten(input_shape=(28, 28)),\n",
        "  keras.layers.Dense(512, activation=tf.nn.relu),\n",
        "  keras.layers.Dense(10, activation=tf.nn.softmax)\n",
        "])"
      ],
      "execution_count": 0,
      "outputs": []
    },
    {
      "cell_type": "code",
      "metadata": {
        "id": "8nYTuvi2KDsX",
        "colab_type": "code",
        "colab": {}
      },
      "source": [
        "modelo_norm.compile(optimizer='adam',\n",
        "              loss='sparse_categorical_crossentropy',\n",
        "              metrics=['accuracy'])"
      ],
      "execution_count": 0,
      "outputs": []
    },
    {
      "cell_type": "code",
      "metadata": {
        "id": "f-BsMl2jKFCk",
        "colab_type": "code",
        "outputId": "bdbc6a5f-04e7-4744-89d9-1ee7729f7572",
        "colab": {
          "base_uri": "https://localhost:8080/",
          "height": 204
        }
      },
      "source": [
        "modelo_norm.fit(imagens_treino_norm, identificacoes_treino, epochs=5)"
      ],
      "execution_count": 52,
      "outputs": [
        {
          "output_type": "stream",
          "text": [
            "Epoch 1/5\n",
            "60000/60000 [==============================] - 8s 140us/sample - loss: 0.2013 - acc: 0.9409\n",
            "Epoch 2/5\n",
            "60000/60000 [==============================] - 8s 134us/sample - loss: 0.0822 - acc: 0.9749\n",
            "Epoch 3/5\n",
            "60000/60000 [==============================] - 10s 160us/sample - loss: 0.0519 - acc: 0.9839\n",
            "Epoch 4/5\n",
            "60000/60000 [==============================] - 8s 125us/sample - loss: 0.0377 - acc: 0.9879\n",
            "Epoch 5/5\n",
            "60000/60000 [==============================] - 7s 122us/sample - loss: 0.0282 - acc: 0.9906\n"
          ],
          "name": "stdout"
        },
        {
          "output_type": "execute_result",
          "data": {
            "text/plain": [
              "<tensorflow.python.keras.callbacks.History at 0x7f2f80385390>"
            ]
          },
          "metadata": {
            "tags": []
          },
          "execution_count": 52
        }
      ]
    },
    {
      "cell_type": "code",
      "metadata": {
        "id": "5XpLjSmuKLLs",
        "colab_type": "code",
        "outputId": "44bacc0a-a725-4514-bec9-a54b33b02322",
        "colab": {
          "base_uri": "https://localhost:8080/",
          "height": 68
        }
      },
      "source": [
        "#perda e acuracia\n",
        "print(\"Métrica com normalização\")\n",
        "modelo_norm.evaluate(imagens_teste_norm, identificacoes_teste)"
      ],
      "execution_count": 22,
      "outputs": [
        {
          "output_type": "stream",
          "text": [
            "Métrica com normalização\n",
            "10000/10000 [==============================] - 1s 104us/sample - loss: 0.0760 - acc: 0.9797\n"
          ],
          "name": "stdout"
        },
        {
          "output_type": "execute_result",
          "data": {
            "text/plain": [
              "[0.07601728629368008, 0.9797]"
            ]
          },
          "metadata": {
            "tags": []
          },
          "execution_count": 22
        }
      ]
    },
    {
      "cell_type": "markdown",
      "metadata": {
        "id": "2kWFp8G_JcBB",
        "colab_type": "text"
      },
      "source": [
        "## Adiciona dropout"
      ]
    },
    {
      "cell_type": "code",
      "metadata": {
        "id": "CJrkmHvMESu3",
        "colab_type": "code",
        "colab": {}
      },
      "source": [
        "modelo_drop = keras.models.Sequential([\n",
        "  keras.layers.Flatten(input_shape=(28, 28)),\n",
        "  keras.layers.Dense(512, activation=tf.nn.relu),\n",
        "  keras.layers.Dropout(0.2),\n",
        "  keras.layers.Dense(10, activation=tf.nn.softmax)\n",
        "])"
      ],
      "execution_count": 0,
      "outputs": []
    },
    {
      "cell_type": "code",
      "metadata": {
        "id": "KQkgZXcdJdh7",
        "colab_type": "code",
        "colab": {}
      },
      "source": [
        "modelo_drop.compile(optimizer='adam',\n",
        "              loss='sparse_categorical_crossentropy',\n",
        "              metrics=['accuracy'])"
      ],
      "execution_count": 0,
      "outputs": []
    },
    {
      "cell_type": "code",
      "metadata": {
        "id": "ndWtDhSWKT83",
        "colab_type": "code",
        "outputId": "5beadab6-8684-416d-a41b-f8715b325932",
        "colab": {
          "base_uri": "https://localhost:8080/",
          "height": 204
        }
      },
      "source": [
        "modelo_drop.fit(imagens_treino, identificacoes_treino, epochs=5)"
      ],
      "execution_count": 55,
      "outputs": [
        {
          "output_type": "stream",
          "text": [
            "Epoch 1/5\n",
            "60000/60000 [==============================] - 9s 146us/sample - loss: 2.6960 - acc: 0.8757\n",
            "Epoch 2/5\n",
            "60000/60000 [==============================] - 9s 143us/sample - loss: 0.4338 - acc: 0.9071\n",
            "Epoch 3/5\n",
            "60000/60000 [==============================] - 9s 156us/sample - loss: 0.4088 - acc: 0.9098\n",
            "Epoch 4/5\n",
            "60000/60000 [==============================] - 9s 146us/sample - loss: 0.3958 - acc: 0.9133\n",
            "Epoch 5/5\n",
            "60000/60000 [==============================] - 8s 135us/sample - loss: 0.3687 - acc: 0.9170\n"
          ],
          "name": "stdout"
        },
        {
          "output_type": "execute_result",
          "data": {
            "text/plain": [
              "<tensorflow.python.keras.callbacks.History at 0x7f2f7fce8208>"
            ]
          },
          "metadata": {
            "tags": []
          },
          "execution_count": 55
        }
      ]
    },
    {
      "cell_type": "code",
      "metadata": {
        "id": "IQCNGWT3KWy6",
        "colab_type": "code",
        "outputId": "68cc3300-85e7-4a49-93c0-8d58666086bd",
        "colab": {
          "base_uri": "https://localhost:8080/",
          "height": 68
        }
      },
      "source": [
        "print('Métrica com normalização e dropout')\n",
        "modelo_drop.evaluate(imagens_teste, identificacoes_teste)"
      ],
      "execution_count": 56,
      "outputs": [
        {
          "output_type": "stream",
          "text": [
            "Métrica com normalização e dropout\n",
            "10000/10000 [==============================] - 1s 60us/sample - loss: 0.3041 - acc: 0.9400\n"
          ],
          "name": "stdout"
        },
        {
          "output_type": "execute_result",
          "data": {
            "text/plain": [
              "[0.3041039045731173, 0.94]"
            ]
          },
          "metadata": {
            "tags": []
          },
          "execution_count": 56
        }
      ]
    },
    {
      "cell_type": "markdown",
      "metadata": {
        "id": "GDbnKtUNNBk9",
        "colab_type": "text"
      },
      "source": [
        "## Normalizacao + dropout"
      ]
    },
    {
      "cell_type": "code",
      "metadata": {
        "id": "1vfHphNmNF2A",
        "colab_type": "code",
        "colab": {}
      },
      "source": [
        "modelo_norm_drop = keras.models.Sequential([\n",
        "  keras.layers.Flatten(input_shape=(28, 28)),\n",
        "  keras.layers.Dense(512, activation=tf.nn.relu),\n",
        "  keras.layers.Dropout(0.2),\n",
        "  keras.layers.Dense(10, activation=tf.nn.softmax)\n",
        "])"
      ],
      "execution_count": 0,
      "outputs": []
    },
    {
      "cell_type": "code",
      "metadata": {
        "id": "GsKTJpMMNJIx",
        "colab_type": "code",
        "colab": {}
      },
      "source": [
        "modelo_norm_drop.compile(optimizer='adam',\n",
        "              loss='sparse_categorical_crossentropy',\n",
        "              metrics=['accuracy'])"
      ],
      "execution_count": 0,
      "outputs": []
    },
    {
      "cell_type": "code",
      "metadata": {
        "id": "uWqh-_IHNLaU",
        "colab_type": "code",
        "outputId": "e6a7b678-2988-4d1a-f37b-41c84a7abfcb",
        "colab": {
          "base_uri": "https://localhost:8080/",
          "height": 204
        }
      },
      "source": [
        "modelo_norm_drop.fit(imagens_treino_norm, identificacoes_treino, epochs=5)"
      ],
      "execution_count": 59,
      "outputs": [
        {
          "output_type": "stream",
          "text": [
            "Epoch 1/5\n",
            "60000/60000 [==============================] - 9s 149us/sample - loss: 0.2171 - acc: 0.9357\n",
            "Epoch 2/5\n",
            "60000/60000 [==============================] - 9s 158us/sample - loss: 0.0973 - acc: 0.9702\n",
            "Epoch 3/5\n",
            "60000/60000 [==============================] - 9s 143us/sample - loss: 0.0680 - acc: 0.9787\n",
            "Epoch 4/5\n",
            "60000/60000 [==============================] - 9s 158us/sample - loss: 0.0538 - acc: 0.9830\n",
            "Epoch 5/5\n",
            "60000/60000 [==============================] - 9s 157us/sample - loss: 0.0444 - acc: 0.9856\n"
          ],
          "name": "stdout"
        },
        {
          "output_type": "execute_result",
          "data": {
            "text/plain": [
              "<tensorflow.python.keras.callbacks.History at 0x7f2f7f9fc0f0>"
            ]
          },
          "metadata": {
            "tags": []
          },
          "execution_count": 59
        }
      ]
    },
    {
      "cell_type": "code",
      "metadata": {
        "id": "fk6L6BF-NN7U",
        "colab_type": "code",
        "outputId": "dc40714b-af04-47cf-a840-77a98da95182",
        "colab": {
          "base_uri": "https://localhost:8080/",
          "height": 68
        }
      },
      "source": [
        "print('Métrica com normalização e dropout')\n",
        "modelo_norm_drop.evaluate(imagens_teste_norm, identificacoes_teste)"
      ],
      "execution_count": 29,
      "outputs": [
        {
          "output_type": "stream",
          "text": [
            "Métrica com normalização e dropout\n",
            "10000/10000 [==============================] - 1s 89us/sample - loss: 0.0718 - acc: 0.9794\n"
          ],
          "name": "stdout"
        },
        {
          "output_type": "execute_result",
          "data": {
            "text/plain": [
              "[0.0718162722389563, 0.9794]"
            ]
          },
          "metadata": {
            "tags": []
          },
          "execution_count": 29
        }
      ]
    },
    {
      "cell_type": "markdown",
      "metadata": {
        "id": "Pb82Cgr1Jhlu",
        "colab_type": "text"
      },
      "source": [
        "## Salva modelo"
      ]
    },
    {
      "cell_type": "code",
      "metadata": {
        "id": "nVA_1G0wJiq6",
        "colab_type": "code",
        "colab": {}
      },
      "source": [
        "modelo_norm_drop.save('modelo_norm_drop_digitos.h5')"
      ],
      "execution_count": 0,
      "outputs": []
    },
    {
      "cell_type": "code",
      "metadata": {
        "id": "6999fjkX-pt7",
        "colab_type": "code",
        "colab": {}
      },
      "source": [
        "from tensorflow.keras.models import load_model\n",
        "\n",
        "modelo_norm_drop_salvo = load_model('modelo_norm_drop_digitos.h5')"
      ],
      "execution_count": 0,
      "outputs": []
    },
    {
      "cell_type": "code",
      "metadata": {
        "id": "3crE5sE7-_x9",
        "colab_type": "code",
        "colab": {
          "base_uri": "https://localhost:8080/",
          "height": 51
        },
        "outputId": "74a6e352-3e5b-4ae3-ed2a-1637c07b52d3"
      },
      "source": [
        "import numpy as np\n",
        "\n",
        "resultado_modelo_norm_drop = modelo_norm_drop.predict(imagens_teste)\n",
        "print('resultado teste modelo salvo:', np.argmax(resultado_modelo_norm_drop[1]))\n",
        "print('número da imagem de teste:', identificacoes_teste[1])"
      ],
      "execution_count": 62,
      "outputs": [
        {
          "output_type": "stream",
          "text": [
            "resultado teste modelo salvo: 2\n",
            "número da imagem de teste: 2\n"
          ],
          "name": "stdout"
        }
      ]
    }
  ]
}